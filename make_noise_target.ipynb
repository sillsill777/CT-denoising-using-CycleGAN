{
 "cells": [
  {
   "cell_type": "code",
   "execution_count": 39,
   "id": "6da89671",
   "metadata": {},
   "outputs": [],
   "source": [
    "import os\n",
    "import numpy as np\n",
    "import matplotlib.pyplot as plt"
   ]
  },
  {
   "cell_type": "code",
   "execution_count": 40,
   "id": "3bd10188",
   "metadata": {},
   "outputs": [],
   "source": [
    "for mode in ['train','test']:\n",
    "    root=os.path.join('.','data',mode)\n",
    "    os.makedirs(os.path.join(root,'noise_target'),exist_ok=True)\n",
    "    cnt=3839 if mode=='train' else 421\n",
    "    for idx in range(cnt):\n",
    "        img_fd=np.load(os.path.join(root,'fd','{}.npy'.format(idx+1)))\n",
    "        img_qd=np.load(os.path.join(root,'qd','{}.npy'.format(idx+1)))\n",
    "        noise=img_qd-img_fd\n",
    "        np.save(os.path.join(root,'noise_target','{}.npy'.format(idx+1)),noise)"
   ]
  },
  {
   "cell_type": "code",
   "execution_count": null,
   "id": "ecf1b34e",
   "metadata": {},
   "outputs": [],
   "source": []
  }
 ],
 "metadata": {
  "kernelspec": {
   "display_name": "Python 3 (ipykernel)",
   "language": "python",
   "name": "python3"
  },
  "language_info": {
   "codemirror_mode": {
    "name": "ipython",
    "version": 3
   },
   "file_extension": ".py",
   "mimetype": "text/x-python",
   "name": "python",
   "nbconvert_exporter": "python",
   "pygments_lexer": "ipython3",
   "version": "3.9.7"
  }
 },
 "nbformat": 4,
 "nbformat_minor": 5
}
