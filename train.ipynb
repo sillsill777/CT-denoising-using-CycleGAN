{
 "cells": [
  {
   "cell_type": "markdown",
   "id": "4c64401c",
   "metadata": {},
   "source": [
    "# Train set AVG PSNR= 25.2899\n",
    "\n",
    "# Test set AVG PSNR=26.9565"
   ]
  },
  {
   "cell_type": "markdown",
   "id": "a3865b39",
   "metadata": {},
   "source": [
    "# A: Full Dose,  B: Quarter Dose"
   ]
  },
  {
   "cell_type": "code",
   "execution_count": 1,
   "id": "0d91cd8e",
   "metadata": {},
   "outputs": [],
   "source": [
    "import torch\n",
    "import itertools\n",
    "from model import Discriminator,UNetGenerator,get_norm_layer,init_weight\n",
    "from utils import Buffer,LambdaLR\n",
    "from torchvision import transforms\n",
    "import os\n",
    "import torch.nn as nn\n",
    "from tqdm.auto import tqdm\n",
    "from dataset import makeDataset\n",
    "from torch.utils.data import DataLoader\n",
    "from torchmetrics import PeakSignalNoiseRatio\n",
    "from torch.utils.tensorboard import SummaryWriter\n",
    "import pickle\n",
    "import numpy as np"
   ]
  },
  {
   "cell_type": "code",
   "execution_count": 2,
   "id": "3666c8a9",
   "metadata": {},
   "outputs": [],
   "source": [
    "def normalize(tensor,zero2one=False):\n",
    "    shape=tensor.shape\n",
    "    tensor_norm=tensor.reshape([shape[0],shape[1],-1])\n",
    "    tensor_max=tensor_norm.max(dim=-1,keepdim=True)[0]\n",
    "    tensor_min=tensor_norm.min(dim=-1,keepdim=True)[0]\n",
    "    tensor_norm=((tensor_norm-tensor_min)/(tensor_max-tensor_min))\n",
    "    if zero2one:\n",
    "        tensor_norm=tensor_norm.reshape(shape)\n",
    "    else:\n",
    "        tensor_norm=((tensor_norm-0.5)*2.0).reshape(shape)\n",
    "    return tensor_norm"
   ]
  },
  {
   "cell_type": "code",
   "execution_count": 3,
   "id": "03ee59b5",
   "metadata": {},
   "outputs": [],
   "source": [
    "norm_type='batch'\n",
    "epochs=80\n",
    "lambda_identity=0.5\n",
    "lambda_A=10.0\n",
    "lambda_B=10.0\n",
    "lr=0.0002\n",
    "ngf=64\n",
    "ndf=64\n",
    "use_droplayer=False\n",
    "batch_size=8\n",
    "norm_layer=get_norm_layer(norm_type)\n",
    "DEVICE='cuda' if torch.cuda.is_available() else 'cpu'"
   ]
  },
  {
   "cell_type": "code",
   "execution_count": 4,
   "id": "3e70b752",
   "metadata": {},
   "outputs": [],
   "source": [
    "G_A2B=UNetGenerator(in_c=1,out_c=1,ngf=ngf,norm_layer=norm_layer,use_drop=use_droplayer)\n",
    "G_B2A=UNetGenerator(in_c=1,out_c=1,ngf=ngf,norm_layer=norm_layer,use_drop=use_droplayer)\n",
    "D_A=Discriminator(in_c=1,ndf=ndf,n_layers=3,norm_layer=norm_layer)\n",
    "D_B=Discriminator(in_c=1,ndf=ndf,n_layers=3,norm_layer=norm_layer)"
   ]
  },
  {
   "cell_type": "code",
   "execution_count": 5,
   "id": "2872721c",
   "metadata": {},
   "outputs": [],
   "source": [
    "G_A2B.to(DEVICE)\n",
    "G_B2A.to(DEVICE)\n",
    "D_A.to(DEVICE)\n",
    "D_B.to(DEVICE)\n",
    "\n",
    "G_A2B.apply(init_weight)\n",
    "G_B2A.apply(init_weight)\n",
    "D_A.apply(init_weight)\n",
    "D_B.apply(init_weight)\n",
    "\n",
    "if torch.cuda.device_count() >1:\n",
    "    print('training with {} GPUs'.format(torch.cuda.device_count()))\n",
    "    G_A2B=torch.nn.DataParallel(G_A2B)\n",
    "    G_B2A=torch.nn.DataParallel(G_B2A)\n",
    "    D_A=torch.nn.DataParallel(D_A)\n",
    "    D_B=torch.nn.DataParallel(D_B)"
   ]
  },
  {
   "cell_type": "code",
   "execution_count": 6,
   "id": "00ad7b01",
   "metadata": {},
   "outputs": [],
   "source": [
    "BufferA=Buffer()\n",
    "BufferB=Buffer()\n",
    "psnr=PeakSignalNoiseRatio(data_range=1,dim=[-1,-2,-3])\n",
    "writer=SummaryWriter()"
   ]
  },
  {
   "cell_type": "code",
   "execution_count": 7,
   "id": "a8ade719",
   "metadata": {},
   "outputs": [],
   "source": [
    "trainTransforms=transforms.Compose([\n",
    "    transforms.RandomCrop((256,256)),\n",
    "])"
   ]
  },
  {
   "cell_type": "code",
   "execution_count": 8,
   "id": "b9b81891",
   "metadata": {},
   "outputs": [],
   "source": [
    "trainDataset=makeDataset(trainTransforms,alignB=True,sameTransformB=True)\n",
    "validDataset=makeDataset(transform=None,mode='test',alignB=True,sameTransformB=True)\n",
    "\n",
    "trainLoader=DataLoader(trainDataset,batch_size=batch_size,shuffle=True)\n",
    "validLoader=DataLoader(validDataset,batch_size=batch_size,shuffle=False)"
   ]
  },
  {
   "cell_type": "code",
   "execution_count": 9,
   "id": "25292543",
   "metadata": {},
   "outputs": [],
   "source": [
    "lossGAN=nn.MSELoss()\n",
    "lossCycle=nn.L1Loss()\n",
    "lossIdentity=nn.L1Loss()\n",
    "\n",
    "optGAN=torch.optim.Adam(itertools.chain(G_A2B.parameters(),G_B2A.parameters()),lr=lr,betas=(0.5,0.999))\n",
    "optD=torch.optim.Adam(itertools.chain(D_A.parameters(),D_B.parameters()),lr=lr,betas=(0.5,0.999))\n",
    "\n",
    "lr_schedular_G=torch.optim.lr_scheduler.LambdaLR(optGAN,lr_lambda=LambdaLR(epochs).step)\n",
    "lr_schedular_D=torch.optim.lr_scheduler.LambdaLR(optD,lr_lambda=LambdaLR(epochs).step)\n",
    "history={'loss_G_A':[],'loss_Cycle_A':[],'loss_idt_A':[],\n",
    "         'loss_G_B':[],'loss_Cycle_B':[],'loss_idt_B':[],'loss_D_A':[],'loss_D_B':[],'PSNR':[]}"
   ]
  },
  {
   "cell_type": "code",
   "execution_count": 10,
   "id": "47886598",
   "metadata": {},
   "outputs": [],
   "source": [
    "if not os.path.exists('./final_result'):\n",
    "    os.makedirs('./final_result')\n",
    "if not os.path.exists('./final_result/GAN_FD_to_QD'):\n",
    "    os.makedirs('./final_result/GAN_FD_to_QD')\n",
    "if not os.path.exists('./final_result/GAN_QD_to_FD'):\n",
    "    os.makedirs('./final_result/GAN_QD_to_FD')\n",
    "if not os.path.exists('./final_result/Discriminator_A'):\n",
    "    os.makedirs('./final_result/Discriminator_A')\n",
    "if not os.path.exists('./final_result/Discriminator_B'):\n",
    "    os.makedirs('./final_result/Discriminator_B')"
   ]
  },
  {
   "cell_type": "code",
   "execution_count": 11,
   "id": "e9b863f2",
   "metadata": {},
   "outputs": [
    {
     "data": {
      "application/vnd.jupyter.widget-view+json": {
       "model_id": "eb42826e7a1742f8815e3c3728eda123",
       "version_major": 2,
       "version_minor": 0
      },
      "text/plain": [
       "  0%|          | 0/80 [00:00<?, ?it/s]"
      ]
     },
     "metadata": {},
     "output_type": "display_data"
    },
    {
     "data": {
      "application/vnd.jupyter.widget-view+json": {
       "model_id": "",
       "version_major": 2,
       "version_minor": 0
      },
      "text/plain": [
       "  0%|          | 0/480 [00:00<?, ?it/s]"
      ]
     },
     "metadata": {},
     "output_type": "display_data"
    },
    {
     "data": {
      "application/vnd.jupyter.widget-view+json": {
       "model_id": "",
       "version_major": 2,
       "version_minor": 0
      },
      "text/plain": [
       "  0%|          | 0/480 [00:00<?, ?it/s]"
      ]
     },
     "metadata": {},
     "output_type": "display_data"
    },
    {
     "data": {
      "application/vnd.jupyter.widget-view+json": {
       "model_id": "",
       "version_major": 2,
       "version_minor": 0
      },
      "text/plain": [
       "  0%|          | 0/480 [00:00<?, ?it/s]"
      ]
     },
     "metadata": {},
     "output_type": "display_data"
    },
    {
     "data": {
      "application/vnd.jupyter.widget-view+json": {
       "model_id": "",
       "version_major": 2,
       "version_minor": 0
      },
      "text/plain": [
       "  0%|          | 0/480 [00:00<?, ?it/s]"
      ]
     },
     "metadata": {},
     "output_type": "display_data"
    },
    {
     "data": {
      "application/vnd.jupyter.widget-view+json": {
       "model_id": "",
       "version_major": 2,
       "version_minor": 0
      },
      "text/plain": [
       "  0%|          | 0/480 [00:00<?, ?it/s]"
      ]
     },
     "metadata": {},
     "output_type": "display_data"
    },
    {
     "data": {
      "application/vnd.jupyter.widget-view+json": {
       "model_id": "",
       "version_major": 2,
       "version_minor": 0
      },
      "text/plain": [
       "  0%|          | 0/480 [00:00<?, ?it/s]"
      ]
     },
     "metadata": {},
     "output_type": "display_data"
    },
    {
     "data": {
      "application/vnd.jupyter.widget-view+json": {
       "model_id": "",
       "version_major": 2,
       "version_minor": 0
      },
      "text/plain": [
       "  0%|          | 0/480 [00:00<?, ?it/s]"
      ]
     },
     "metadata": {},
     "output_type": "display_data"
    },
    {
     "data": {
      "application/vnd.jupyter.widget-view+json": {
       "model_id": "",
       "version_major": 2,
       "version_minor": 0
      },
      "text/plain": [
       "  0%|          | 0/480 [00:00<?, ?it/s]"
      ]
     },
     "metadata": {},
     "output_type": "display_data"
    },
    {
     "data": {
      "application/vnd.jupyter.widget-view+json": {
       "model_id": "",
       "version_major": 2,
       "version_minor": 0
      },
      "text/plain": [
       "  0%|          | 0/480 [00:00<?, ?it/s]"
      ]
     },
     "metadata": {},
     "output_type": "display_data"
    },
    {
     "data": {
      "application/vnd.jupyter.widget-view+json": {
       "model_id": "",
       "version_major": 2,
       "version_minor": 0
      },
      "text/plain": [
       "  0%|          | 0/480 [00:00<?, ?it/s]"
      ]
     },
     "metadata": {},
     "output_type": "display_data"
    },
    {
     "data": {
      "application/vnd.jupyter.widget-view+json": {
       "model_id": "",
       "version_major": 2,
       "version_minor": 0
      },
      "text/plain": [
       "  0%|          | 0/480 [00:00<?, ?it/s]"
      ]
     },
     "metadata": {},
     "output_type": "display_data"
    },
    {
     "data": {
      "application/vnd.jupyter.widget-view+json": {
       "model_id": "",
       "version_major": 2,
       "version_minor": 0
      },
      "text/plain": [
       "  0%|          | 0/480 [00:00<?, ?it/s]"
      ]
     },
     "metadata": {},
     "output_type": "display_data"
    },
    {
     "data": {
      "application/vnd.jupyter.widget-view+json": {
       "model_id": "",
       "version_major": 2,
       "version_minor": 0
      },
      "text/plain": [
       "  0%|          | 0/480 [00:00<?, ?it/s]"
      ]
     },
     "metadata": {},
     "output_type": "display_data"
    },
    {
     "data": {
      "application/vnd.jupyter.widget-view+json": {
       "model_id": "",
       "version_major": 2,
       "version_minor": 0
      },
      "text/plain": [
       "  0%|          | 0/480 [00:00<?, ?it/s]"
      ]
     },
     "metadata": {},
     "output_type": "display_data"
    },
    {
     "data": {
      "application/vnd.jupyter.widget-view+json": {
       "model_id": "",
       "version_major": 2,
       "version_minor": 0
      },
      "text/plain": [
       "  0%|          | 0/480 [00:00<?, ?it/s]"
      ]
     },
     "metadata": {},
     "output_type": "display_data"
    },
    {
     "data": {
      "application/vnd.jupyter.widget-view+json": {
       "model_id": "",
       "version_major": 2,
       "version_minor": 0
      },
      "text/plain": [
       "  0%|          | 0/480 [00:00<?, ?it/s]"
      ]
     },
     "metadata": {},
     "output_type": "display_data"
    },
    {
     "data": {
      "application/vnd.jupyter.widget-view+json": {
       "model_id": "",
       "version_major": 2,
       "version_minor": 0
      },
      "text/plain": [
       "  0%|          | 0/480 [00:00<?, ?it/s]"
      ]
     },
     "metadata": {},
     "output_type": "display_data"
    },
    {
     "data": {
      "application/vnd.jupyter.widget-view+json": {
       "model_id": "",
       "version_major": 2,
       "version_minor": 0
      },
      "text/plain": [
       "  0%|          | 0/480 [00:00<?, ?it/s]"
      ]
     },
     "metadata": {},
     "output_type": "display_data"
    },
    {
     "data": {
      "application/vnd.jupyter.widget-view+json": {
       "model_id": "",
       "version_major": 2,
       "version_minor": 0
      },
      "text/plain": [
       "  0%|          | 0/480 [00:00<?, ?it/s]"
      ]
     },
     "metadata": {},
     "output_type": "display_data"
    },
    {
     "data": {
      "application/vnd.jupyter.widget-view+json": {
       "model_id": "",
       "version_major": 2,
       "version_minor": 0
      },
      "text/plain": [
       "  0%|          | 0/480 [00:00<?, ?it/s]"
      ]
     },
     "metadata": {},
     "output_type": "display_data"
    },
    {
     "data": {
      "application/vnd.jupyter.widget-view+json": {
       "model_id": "",
       "version_major": 2,
       "version_minor": 0
      },
      "text/plain": [
       "  0%|          | 0/480 [00:00<?, ?it/s]"
      ]
     },
     "metadata": {},
     "output_type": "display_data"
    },
    {
     "data": {
      "application/vnd.jupyter.widget-view+json": {
       "model_id": "",
       "version_major": 2,
       "version_minor": 0
      },
      "text/plain": [
       "  0%|          | 0/480 [00:00<?, ?it/s]"
      ]
     },
     "metadata": {},
     "output_type": "display_data"
    },
    {
     "data": {
      "application/vnd.jupyter.widget-view+json": {
       "model_id": "",
       "version_major": 2,
       "version_minor": 0
      },
      "text/plain": [
       "  0%|          | 0/480 [00:00<?, ?it/s]"
      ]
     },
     "metadata": {},
     "output_type": "display_data"
    },
    {
     "data": {
      "application/vnd.jupyter.widget-view+json": {
       "model_id": "",
       "version_major": 2,
       "version_minor": 0
      },
      "text/plain": [
       "  0%|          | 0/480 [00:00<?, ?it/s]"
      ]
     },
     "metadata": {},
     "output_type": "display_data"
    },
    {
     "data": {
      "application/vnd.jupyter.widget-view+json": {
       "model_id": "",
       "version_major": 2,
       "version_minor": 0
      },
      "text/plain": [
       "  0%|          | 0/480 [00:00<?, ?it/s]"
      ]
     },
     "metadata": {},
     "output_type": "display_data"
    },
    {
     "data": {
      "application/vnd.jupyter.widget-view+json": {
       "model_id": "",
       "version_major": 2,
       "version_minor": 0
      },
      "text/plain": [
       "  0%|          | 0/480 [00:00<?, ?it/s]"
      ]
     },
     "metadata": {},
     "output_type": "display_data"
    },
    {
     "data": {
      "application/vnd.jupyter.widget-view+json": {
       "model_id": "",
       "version_major": 2,
       "version_minor": 0
      },
      "text/plain": [
       "  0%|          | 0/480 [00:00<?, ?it/s]"
      ]
     },
     "metadata": {},
     "output_type": "display_data"
    },
    {
     "data": {
      "application/vnd.jupyter.widget-view+json": {
       "model_id": "",
       "version_major": 2,
       "version_minor": 0
      },
      "text/plain": [
       "  0%|          | 0/480 [00:00<?, ?it/s]"
      ]
     },
     "metadata": {},
     "output_type": "display_data"
    },
    {
     "data": {
      "application/vnd.jupyter.widget-view+json": {
       "model_id": "",
       "version_major": 2,
       "version_minor": 0
      },
      "text/plain": [
       "  0%|          | 0/480 [00:00<?, ?it/s]"
      ]
     },
     "metadata": {},
     "output_type": "display_data"
    },
    {
     "data": {
      "application/vnd.jupyter.widget-view+json": {
       "model_id": "",
       "version_major": 2,
       "version_minor": 0
      },
      "text/plain": [
       "  0%|          | 0/480 [00:00<?, ?it/s]"
      ]
     },
     "metadata": {},
     "output_type": "display_data"
    },
    {
     "data": {
      "application/vnd.jupyter.widget-view+json": {
       "model_id": "",
       "version_major": 2,
       "version_minor": 0
      },
      "text/plain": [
       "  0%|          | 0/480 [00:00<?, ?it/s]"
      ]
     },
     "metadata": {},
     "output_type": "display_data"
    },
    {
     "data": {
      "application/vnd.jupyter.widget-view+json": {
       "model_id": "",
       "version_major": 2,
       "version_minor": 0
      },
      "text/plain": [
       "  0%|          | 0/480 [00:00<?, ?it/s]"
      ]
     },
     "metadata": {},
     "output_type": "display_data"
    },
    {
     "data": {
      "application/vnd.jupyter.widget-view+json": {
       "model_id": "",
       "version_major": 2,
       "version_minor": 0
      },
      "text/plain": [
       "  0%|          | 0/480 [00:00<?, ?it/s]"
      ]
     },
     "metadata": {},
     "output_type": "display_data"
    },
    {
     "data": {
      "application/vnd.jupyter.widget-view+json": {
       "model_id": "",
       "version_major": 2,
       "version_minor": 0
      },
      "text/plain": [
       "  0%|          | 0/480 [00:00<?, ?it/s]"
      ]
     },
     "metadata": {},
     "output_type": "display_data"
    },
    {
     "data": {
      "application/vnd.jupyter.widget-view+json": {
       "model_id": "",
       "version_major": 2,
       "version_minor": 0
      },
      "text/plain": [
       "  0%|          | 0/480 [00:00<?, ?it/s]"
      ]
     },
     "metadata": {},
     "output_type": "display_data"
    },
    {
     "data": {
      "application/vnd.jupyter.widget-view+json": {
       "model_id": "",
       "version_major": 2,
       "version_minor": 0
      },
      "text/plain": [
       "  0%|          | 0/480 [00:00<?, ?it/s]"
      ]
     },
     "metadata": {},
     "output_type": "display_data"
    },
    {
     "data": {
      "application/vnd.jupyter.widget-view+json": {
       "model_id": "",
       "version_major": 2,
       "version_minor": 0
      },
      "text/plain": [
       "  0%|          | 0/480 [00:00<?, ?it/s]"
      ]
     },
     "metadata": {},
     "output_type": "display_data"
    },
    {
     "data": {
      "application/vnd.jupyter.widget-view+json": {
       "model_id": "",
       "version_major": 2,
       "version_minor": 0
      },
      "text/plain": [
       "  0%|          | 0/480 [00:00<?, ?it/s]"
      ]
     },
     "metadata": {},
     "output_type": "display_data"
    },
    {
     "data": {
      "application/vnd.jupyter.widget-view+json": {
       "model_id": "",
       "version_major": 2,
       "version_minor": 0
      },
      "text/plain": [
       "  0%|          | 0/480 [00:00<?, ?it/s]"
      ]
     },
     "metadata": {},
     "output_type": "display_data"
    },
    {
     "data": {
      "application/vnd.jupyter.widget-view+json": {
       "model_id": "",
       "version_major": 2,
       "version_minor": 0
      },
      "text/plain": [
       "  0%|          | 0/480 [00:00<?, ?it/s]"
      ]
     },
     "metadata": {},
     "output_type": "display_data"
    },
    {
     "data": {
      "application/vnd.jupyter.widget-view+json": {
       "model_id": "",
       "version_major": 2,
       "version_minor": 0
      },
      "text/plain": [
       "  0%|          | 0/480 [00:00<?, ?it/s]"
      ]
     },
     "metadata": {},
     "output_type": "display_data"
    },
    {
     "data": {
      "application/vnd.jupyter.widget-view+json": {
       "model_id": "",
       "version_major": 2,
       "version_minor": 0
      },
      "text/plain": [
       "  0%|          | 0/480 [00:00<?, ?it/s]"
      ]
     },
     "metadata": {},
     "output_type": "display_data"
    },
    {
     "data": {
      "application/vnd.jupyter.widget-view+json": {
       "model_id": "",
       "version_major": 2,
       "version_minor": 0
      },
      "text/plain": [
       "  0%|          | 0/480 [00:00<?, ?it/s]"
      ]
     },
     "metadata": {},
     "output_type": "display_data"
    },
    {
     "data": {
      "application/vnd.jupyter.widget-view+json": {
       "model_id": "",
       "version_major": 2,
       "version_minor": 0
      },
      "text/plain": [
       "  0%|          | 0/480 [00:00<?, ?it/s]"
      ]
     },
     "metadata": {},
     "output_type": "display_data"
    },
    {
     "data": {
      "application/vnd.jupyter.widget-view+json": {
       "model_id": "",
       "version_major": 2,
       "version_minor": 0
      },
      "text/plain": [
       "  0%|          | 0/480 [00:00<?, ?it/s]"
      ]
     },
     "metadata": {},
     "output_type": "display_data"
    },
    {
     "data": {
      "application/vnd.jupyter.widget-view+json": {
       "model_id": "",
       "version_major": 2,
       "version_minor": 0
      },
      "text/plain": [
       "  0%|          | 0/480 [00:00<?, ?it/s]"
      ]
     },
     "metadata": {},
     "output_type": "display_data"
    },
    {
     "data": {
      "application/vnd.jupyter.widget-view+json": {
       "model_id": "",
       "version_major": 2,
       "version_minor": 0
      },
      "text/plain": [
       "  0%|          | 0/480 [00:00<?, ?it/s]"
      ]
     },
     "metadata": {},
     "output_type": "display_data"
    },
    {
     "data": {
      "application/vnd.jupyter.widget-view+json": {
       "model_id": "",
       "version_major": 2,
       "version_minor": 0
      },
      "text/plain": [
       "  0%|          | 0/480 [00:00<?, ?it/s]"
      ]
     },
     "metadata": {},
     "output_type": "display_data"
    },
    {
     "data": {
      "application/vnd.jupyter.widget-view+json": {
       "model_id": "",
       "version_major": 2,
       "version_minor": 0
      },
      "text/plain": [
       "  0%|          | 0/480 [00:00<?, ?it/s]"
      ]
     },
     "metadata": {},
     "output_type": "display_data"
    },
    {
     "data": {
      "application/vnd.jupyter.widget-view+json": {
       "model_id": "",
       "version_major": 2,
       "version_minor": 0
      },
      "text/plain": [
       "  0%|          | 0/480 [00:00<?, ?it/s]"
      ]
     },
     "metadata": {},
     "output_type": "display_data"
    },
    {
     "data": {
      "application/vnd.jupyter.widget-view+json": {
       "model_id": "",
       "version_major": 2,
       "version_minor": 0
      },
      "text/plain": [
       "  0%|          | 0/480 [00:00<?, ?it/s]"
      ]
     },
     "metadata": {},
     "output_type": "display_data"
    },
    {
     "data": {
      "application/vnd.jupyter.widget-view+json": {
       "model_id": "",
       "version_major": 2,
       "version_minor": 0
      },
      "text/plain": [
       "  0%|          | 0/480 [00:00<?, ?it/s]"
      ]
     },
     "metadata": {},
     "output_type": "display_data"
    },
    {
     "data": {
      "application/vnd.jupyter.widget-view+json": {
       "model_id": "",
       "version_major": 2,
       "version_minor": 0
      },
      "text/plain": [
       "  0%|          | 0/480 [00:00<?, ?it/s]"
      ]
     },
     "metadata": {},
     "output_type": "display_data"
    },
    {
     "data": {
      "application/vnd.jupyter.widget-view+json": {
       "model_id": "",
       "version_major": 2,
       "version_minor": 0
      },
      "text/plain": [
       "  0%|          | 0/480 [00:00<?, ?it/s]"
      ]
     },
     "metadata": {},
     "output_type": "display_data"
    },
    {
     "data": {
      "application/vnd.jupyter.widget-view+json": {
       "model_id": "",
       "version_major": 2,
       "version_minor": 0
      },
      "text/plain": [
       "  0%|          | 0/480 [00:00<?, ?it/s]"
      ]
     },
     "metadata": {},
     "output_type": "display_data"
    },
    {
     "data": {
      "application/vnd.jupyter.widget-view+json": {
       "model_id": "",
       "version_major": 2,
       "version_minor": 0
      },
      "text/plain": [
       "  0%|          | 0/480 [00:00<?, ?it/s]"
      ]
     },
     "metadata": {},
     "output_type": "display_data"
    },
    {
     "data": {
      "application/vnd.jupyter.widget-view+json": {
       "model_id": "",
       "version_major": 2,
       "version_minor": 0
      },
      "text/plain": [
       "  0%|          | 0/480 [00:00<?, ?it/s]"
      ]
     },
     "metadata": {},
     "output_type": "display_data"
    },
    {
     "data": {
      "application/vnd.jupyter.widget-view+json": {
       "model_id": "",
       "version_major": 2,
       "version_minor": 0
      },
      "text/plain": [
       "  0%|          | 0/480 [00:00<?, ?it/s]"
      ]
     },
     "metadata": {},
     "output_type": "display_data"
    },
    {
     "data": {
      "application/vnd.jupyter.widget-view+json": {
       "model_id": "",
       "version_major": 2,
       "version_minor": 0
      },
      "text/plain": [
       "  0%|          | 0/480 [00:00<?, ?it/s]"
      ]
     },
     "metadata": {},
     "output_type": "display_data"
    },
    {
     "data": {
      "application/vnd.jupyter.widget-view+json": {
       "model_id": "",
       "version_major": 2,
       "version_minor": 0
      },
      "text/plain": [
       "  0%|          | 0/480 [00:00<?, ?it/s]"
      ]
     },
     "metadata": {},
     "output_type": "display_data"
    },
    {
     "data": {
      "application/vnd.jupyter.widget-view+json": {
       "model_id": "",
       "version_major": 2,
       "version_minor": 0
      },
      "text/plain": [
       "  0%|          | 0/480 [00:00<?, ?it/s]"
      ]
     },
     "metadata": {},
     "output_type": "display_data"
    },
    {
     "data": {
      "application/vnd.jupyter.widget-view+json": {
       "model_id": "",
       "version_major": 2,
       "version_minor": 0
      },
      "text/plain": [
       "  0%|          | 0/480 [00:00<?, ?it/s]"
      ]
     },
     "metadata": {},
     "output_type": "display_data"
    },
    {
     "data": {
      "application/vnd.jupyter.widget-view+json": {
       "model_id": "",
       "version_major": 2,
       "version_minor": 0
      },
      "text/plain": [
       "  0%|          | 0/480 [00:00<?, ?it/s]"
      ]
     },
     "metadata": {},
     "output_type": "display_data"
    },
    {
     "data": {
      "application/vnd.jupyter.widget-view+json": {
       "model_id": "",
       "version_major": 2,
       "version_minor": 0
      },
      "text/plain": [
       "  0%|          | 0/480 [00:00<?, ?it/s]"
      ]
     },
     "metadata": {},
     "output_type": "display_data"
    },
    {
     "data": {
      "application/vnd.jupyter.widget-view+json": {
       "model_id": "",
       "version_major": 2,
       "version_minor": 0
      },
      "text/plain": [
       "  0%|          | 0/480 [00:00<?, ?it/s]"
      ]
     },
     "metadata": {},
     "output_type": "display_data"
    },
    {
     "data": {
      "application/vnd.jupyter.widget-view+json": {
       "model_id": "",
       "version_major": 2,
       "version_minor": 0
      },
      "text/plain": [
       "  0%|          | 0/480 [00:00<?, ?it/s]"
      ]
     },
     "metadata": {},
     "output_type": "display_data"
    },
    {
     "data": {
      "application/vnd.jupyter.widget-view+json": {
       "model_id": "",
       "version_major": 2,
       "version_minor": 0
      },
      "text/plain": [
       "  0%|          | 0/480 [00:00<?, ?it/s]"
      ]
     },
     "metadata": {},
     "output_type": "display_data"
    },
    {
     "data": {
      "application/vnd.jupyter.widget-view+json": {
       "model_id": "",
       "version_major": 2,
       "version_minor": 0
      },
      "text/plain": [
       "  0%|          | 0/480 [00:00<?, ?it/s]"
      ]
     },
     "metadata": {},
     "output_type": "display_data"
    },
    {
     "data": {
      "application/vnd.jupyter.widget-view+json": {
       "model_id": "",
       "version_major": 2,
       "version_minor": 0
      },
      "text/plain": [
       "  0%|          | 0/480 [00:00<?, ?it/s]"
      ]
     },
     "metadata": {},
     "output_type": "display_data"
    },
    {
     "data": {
      "application/vnd.jupyter.widget-view+json": {
       "model_id": "",
       "version_major": 2,
       "version_minor": 0
      },
      "text/plain": [
       "  0%|          | 0/480 [00:00<?, ?it/s]"
      ]
     },
     "metadata": {},
     "output_type": "display_data"
    },
    {
     "data": {
      "application/vnd.jupyter.widget-view+json": {
       "model_id": "",
       "version_major": 2,
       "version_minor": 0
      },
      "text/plain": [
       "  0%|          | 0/480 [00:00<?, ?it/s]"
      ]
     },
     "metadata": {},
     "output_type": "display_data"
    },
    {
     "data": {
      "application/vnd.jupyter.widget-view+json": {
       "model_id": "",
       "version_major": 2,
       "version_minor": 0
      },
      "text/plain": [
       "  0%|          | 0/480 [00:00<?, ?it/s]"
      ]
     },
     "metadata": {},
     "output_type": "display_data"
    },
    {
     "data": {
      "application/vnd.jupyter.widget-view+json": {
       "model_id": "",
       "version_major": 2,
       "version_minor": 0
      },
      "text/plain": [
       "  0%|          | 0/480 [00:00<?, ?it/s]"
      ]
     },
     "metadata": {},
     "output_type": "display_data"
    },
    {
     "data": {
      "application/vnd.jupyter.widget-view+json": {
       "model_id": "",
       "version_major": 2,
       "version_minor": 0
      },
      "text/plain": [
       "  0%|          | 0/480 [00:00<?, ?it/s]"
      ]
     },
     "metadata": {},
     "output_type": "display_data"
    },
    {
     "data": {
      "application/vnd.jupyter.widget-view+json": {
       "model_id": "",
       "version_major": 2,
       "version_minor": 0
      },
      "text/plain": [
       "  0%|          | 0/480 [00:00<?, ?it/s]"
      ]
     },
     "metadata": {},
     "output_type": "display_data"
    },
    {
     "data": {
      "application/vnd.jupyter.widget-view+json": {
       "model_id": "",
       "version_major": 2,
       "version_minor": 0
      },
      "text/plain": [
       "  0%|          | 0/480 [00:00<?, ?it/s]"
      ]
     },
     "metadata": {},
     "output_type": "display_data"
    },
    {
     "data": {
      "application/vnd.jupyter.widget-view+json": {
       "model_id": "",
       "version_major": 2,
       "version_minor": 0
      },
      "text/plain": [
       "  0%|          | 0/480 [00:00<?, ?it/s]"
      ]
     },
     "metadata": {},
     "output_type": "display_data"
    },
    {
     "data": {
      "application/vnd.jupyter.widget-view+json": {
       "model_id": "",
       "version_major": 2,
       "version_minor": 0
      },
      "text/plain": [
       "  0%|          | 0/480 [00:00<?, ?it/s]"
      ]
     },
     "metadata": {},
     "output_type": "display_data"
    },
    {
     "data": {
      "application/vnd.jupyter.widget-view+json": {
       "model_id": "",
       "version_major": 2,
       "version_minor": 0
      },
      "text/plain": [
       "  0%|          | 0/480 [00:00<?, ?it/s]"
      ]
     },
     "metadata": {},
     "output_type": "display_data"
    },
    {
     "data": {
      "application/vnd.jupyter.widget-view+json": {
       "model_id": "",
       "version_major": 2,
       "version_minor": 0
      },
      "text/plain": [
       "  0%|          | 0/480 [00:00<?, ?it/s]"
      ]
     },
     "metadata": {},
     "output_type": "display_data"
    }
   ],
   "source": [
    "trainstep=(len(trainLoader.dataset)//batch_size)+1 \n",
    "outtertqdm=tqdm(range(epochs))\n",
    "best_psnr=0\n",
    "for epoch in outtertqdm:\n",
    "    innertqdm=tqdm(range(trainstep),leave=False)\n",
    "    dataiter=iter(trainLoader)\n",
    "    G_A2B.train()\n",
    "    G_B2A.train()\n",
    "    D_A.train()\n",
    "    D_B.train()\n",
    "    \n",
    "    stepcnt=0\n",
    "    stepValidcnt=0\n",
    "    totalLoss_G_A=0\n",
    "    totalLoss_G_Cycle_A=0\n",
    "    totalLoss_G_idt_A=0\n",
    "    totalLoss_G_B=0\n",
    "    totalLoss_G_Cycle_B=0\n",
    "    totalLoss_G_idt_B=0\n",
    "    totalLoss_D_A=0\n",
    "    totalLoss_D_B=0\n",
    "    totalPSNR=0\n",
    "    \n",
    "    for step in innertqdm:\n",
    "        stepcnt+=1\n",
    "        (realA,realB)=next(dataiter)\n",
    "        (realA,realB)=(realA.to(DEVICE),realB.to(DEVICE))\n",
    "        ######################################Generator#############################################\n",
    "        optGAN.zero_grad()\n",
    "        #####Identity Loss#####\n",
    "        if lambda_identity>0.0:\n",
    "            loss_idt_A=lossIdentity(G_B2A(realA),realA)*lambda_A*lambda_identity\n",
    "            loss_idt_B=lossIdentity(G_A2B(realB),realB)*lambda_B*lambda_identity\n",
    "        else:\n",
    "            loss_idt_A=0\n",
    "            loss_idt_B=0\n",
    "        #####GAN Loss#####\n",
    "        fakeA=G_B2A(realB)\n",
    "        fakeB=G_A2B(realA)\n",
    "        pred_D_A_fakeA=D_A(fakeA)\n",
    "        pred_D_B_fakeB=D_B(fakeB)\n",
    "        \n",
    "        targetReal=torch.ones_like(pred_D_A_fakeA,device=DEVICE)\n",
    "        targetFake=torch.zeros_like(pred_D_A_fakeA,device=DEVICE)\n",
    "        \n",
    "        loss_G_A2B=lossGAN(pred_D_B_fakeB,targetReal)\n",
    "        loss_G_B2A=lossGAN(pred_D_A_fakeA,targetReal)\n",
    "        #####Cycle Loss#####\n",
    "        \n",
    "        cycleA=G_B2A(fakeB)\n",
    "        cycleB=G_A2B(fakeA)\n",
    "        \n",
    "        loss_cycle_A=lossCycle(cycleA,realA)*lambda_A\n",
    "        loss_cycle_B=lossCycle(cycleB,realB)*lambda_B\n",
    "        #####Final Loss#####\n",
    "        lossG=loss_G_A2B+loss_G_B2A+loss_cycle_A+loss_cycle_B+loss_idt_A+loss_idt_B\n",
    "        lossG.backward()\n",
    "        optGAN.step()\n",
    "        \n",
    "        ###################################Discriminator##########################################\n",
    "        optD.zero_grad()\n",
    "        #####Discriminator A Loss#####\n",
    "        fakeA=BufferA.push_pop(fakeA)\n",
    "        loss_D_A_Real=lossGAN(D_A(realA),targetReal)\n",
    "        loss_D_A_Fake=lossGAN(D_A(fakeA.detach()),targetFake)\n",
    "        loss_D_A=(loss_D_A_Fake+loss_D_A_Real)*0.5\n",
    "        #####Discriminator B Loss#####\n",
    "        fakeB=BufferB.push_pop(fakeB)\n",
    "        loss_D_B_Real=lossGAN(D_B(realB),targetReal)\n",
    "        loss_D_B_Fake=lossGAN(D_B(fakeB.detach()),targetFake)\n",
    "        loss_D_B=(loss_D_B_Real+loss_D_B_Fake)*0.5\n",
    "        #####Final Loss#####\n",
    "        loss_D_A.backward()\n",
    "        loss_D_B.backward()\n",
    "        optD.step()\n",
    "        ########################################Finish###############################################\n",
    "        totalLoss_G_A += loss_G_A2B\n",
    "        totalLoss_G_Cycle_A += loss_cycle_A\n",
    "        totalLoss_G_idt_A += loss_idt_A\n",
    "        totalLoss_G_B += loss_G_B2A\n",
    "        totalLoss_G_Cycle_B += loss_cycle_B\n",
    "        totalLoss_G_idt_B += loss_idt_B\n",
    "        totalLoss_D_A += loss_D_A\n",
    "        totalLoss_D_B += loss_D_B\n",
    "    \n",
    "    with torch.no_grad():\n",
    "        G_B2A.eval() #B: qd   A: fd\n",
    "        for (realA,realB) in validLoader:\n",
    "            (realA,realB)=(realA.to(DEVICE),realB.to(DEVICE))\n",
    "            fakeA=G_B2A(realB)\n",
    "            \n",
    "            fakeA=normalize(fakeA,zero2one=True)\n",
    "            #realA=(realA+1.0)*0.5\n",
    "            realA=normalize(realA,zero2one=True)\n",
    "            batch_psnr=psnr(fakeA,realA)\n",
    "            totalPSNR+=batch_psnr\n",
    "            stepValidcnt+=1\n",
    "            \n",
    "    \n",
    "    avgLoss_G_A=totalLoss_G_A.cpu().detach().numpy()/stepcnt\n",
    "    avgLoss_G_Cycle_A=totalLoss_G_Cycle_A.cpu().detach().numpy()/stepcnt\n",
    "    avgLoss_G_idt_A=totalLoss_G_idt_A.cpu().detach().numpy()/stepcnt\n",
    "    \n",
    "    avgLoss_G_B=totalLoss_G_B.cpu().detach().numpy()/stepcnt\n",
    "    avgLoss_G_Cycle_B=totalLoss_G_Cycle_B.cpu().detach().numpy()/stepcnt\n",
    "    avgLoss_G_idt_B=totalLoss_G_idt_B.cpu().detach().numpy()/stepcnt\n",
    "    \n",
    "    avgLoss_D_A=totalLoss_D_A.cpu().detach().numpy()/stepcnt\n",
    "    avgLoss_D_B=totalLoss_D_B.cpu().detach().numpy()/stepcnt\n",
    "    avgPSNR=totalPSNR.cpu().detach().numpy()/stepValidcnt\n",
    "    \n",
    "    history['loss_G_A'].append(avgLoss_G_A)\n",
    "    history['loss_Cycle_A'].append(avgLoss_G_Cycle_A)\n",
    "    history['loss_idt_A'].append(avgLoss_G_idt_A)\n",
    "    history['loss_G_B'].append(avgLoss_G_B)\n",
    "    history['loss_Cycle_B'].append(avgLoss_G_Cycle_B)\n",
    "    history['loss_idt_B'].append(avgLoss_G_idt_B)\n",
    "    history['loss_D_A'].append(avgLoss_D_A)\n",
    "    history['loss_D_B'].append(avgLoss_D_B)\n",
    "    history['PSNR'].append(avgPSNR)\n",
    "    \n",
    "    writer.add_scalar('GAN_A',avgLoss_G_A,epoch)\n",
    "    writer.add_scalar('Cycle_A',avgLoss_G_Cycle_A,epoch)\n",
    "    writer.add_scalar('Idt_A',avgLoss_G_idt_A,epoch)\n",
    "    writer.add_scalar('GAN_B',avgLoss_G_B,epoch)\n",
    "    writer.add_scalar('Cycle_B',avgLoss_G_Cycle_B,epoch)\n",
    "    writer.add_scalar('Idt_B',avgLoss_G_idt_B,epoch)\n",
    "    writer.add_scalar('D_A',avgLoss_D_A,epoch)\n",
    "    writer.add_scalar('D_B',avgLoss_D_B,epoch)\n",
    "    writer.add_scalar('PSNR',avgPSNR,epoch)\n",
    "    \n",
    "    lr_schedular_G.step()\n",
    "    lr_schedular_D.step()\n",
    "    \n",
    "    outtertqdm.set_postfix({'PSNR':'{:.03f}'.format(avgPSNR),'Diff':'{:.03f}'.format(avgPSNR-26.9565)})\n",
    "    \n",
    "    if best_psnr<avgPSNR:\n",
    "        best_psnr=avgPSNR\n",
    "        torch.save(G_A2B.state_dict(),'./final_result/GAN_FD_to_QD/GAN.pt')\n",
    "        torch.save(G_B2A.state_dict(),'./final_result/GAN_QD_to_FD/GAN.pt')\n",
    "        torch.save(D_A.state_dict(),'./final_result/Discriminator_A/Disc_A.pt')\n",
    "        torch.save(D_B.state_dict(),'./final_result/Discriminator_B/Disc_B.pt')\n",
    "\n",
    "        with open('./final_result/history.pkl','wb') as f:\n",
    "            pickle.dump(history,f)\n",
    "    \n",
    "writer.flush()\n",
    "writer.close()\n",
    "        "
   ]
  },
  {
   "cell_type": "code",
   "execution_count": null,
   "id": "050739cf",
   "metadata": {},
   "outputs": [],
   "source": []
  }
 ],
 "metadata": {
  "kernelspec": {
   "display_name": "Python 3 (ipykernel)",
   "language": "python",
   "name": "python3"
  },
  "language_info": {
   "codemirror_mode": {
    "name": "ipython",
    "version": 3
   },
   "file_extension": ".py",
   "mimetype": "text/x-python",
   "name": "python",
   "nbconvert_exporter": "python",
   "pygments_lexer": "ipython3",
   "version": "3.9.7"
  }
 },
 "nbformat": 4,
 "nbformat_minor": 5
}
